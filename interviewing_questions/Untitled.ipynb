{
 "cells": [
  {
   "cell_type": "markdown",
   "metadata": {},
   "source": [
    "# two sum problem\n",
    "\n",
    "Given an array, and a number, check if there are any two numbers who can be added to get that number. If there are any pairs that produce it, return them all."
   ]
  },
  {
   "cell_type": "code",
   "execution_count": 8,
   "metadata": {},
   "outputs": [
    {
     "name": "stdout",
     "output_type": "stream",
     "text": [
      "[(1, 5), (2, 4), (1, 5)]\n",
      "[]\n",
      "[(1, 5)]\n"
     ]
    }
   ],
   "source": [
    "def dumb_two_sum(arr, n):\n",
    "    good_sums = []\n",
    "    for i in arr:\n",
    "        for j in arr:\n",
    "            if i+j == n and i != j:\n",
    "                good_sums += [(i, j)]\n",
    "    return good_sums[0:int(len(good_sums)/2)]\n",
    "\n",
    "print(dumb_two_sum([1,2,3,1,4,5], 6))\n",
    "print(dumb_two_sum([1,1,3,1,4,5], 10))\n",
    "print(dumb_two_sum([1,10,9,7,4,5], 6))"
   ]
  },
  {
   "cell_type": "markdown",
   "metadata": {},
   "source": [
    "This is nice, but its too slow. Its O(n^2). We can probably do better if we used pointers and sorting."
   ]
  },
  {
   "cell_type": "code",
   "execution_count": 9,
   "metadata": {},
   "outputs": [
    {
     "name": "stdout",
     "output_type": "stream",
     "text": [
      "[(1, 5), (2, 4), (1, 5)]\n",
      "[]\n",
      "[(1, 5)]\n"
     ]
    }
   ],
   "source": [
    "def better_two_sum(arr, n):\n",
    "    arr = sorted(arr)\n",
    "    \n",
    "    low = 0\n",
    "    high = len(arr)\n",
    "    \n",
    "    good_sums = []\n",
    "    \n",
    "    while low <= high:\n",
    "        if arr[low]+arr[high] == n:\n",
    "            good_sums += [(arr[low], arr[high])]\n",
    "            low += 1\n",
    "        elif arr[low]+arr[high] > n:\n",
    "            high -= 1\n",
    "        elif arr[low]+arr[high] < n:\n",
    "            low += 1\n",
    "    return good_sums\n",
    "print(dumb_two_sum([1,2,3,1,4,5], 6))\n",
    "print(dumb_two_sum([1,1,3,1,4,5], 10))\n",
    "print(dumb_two_sum([1,10,9,7,4,5], 6))"
   ]
  },
  {
   "cell_type": "code",
   "execution_count": null,
   "metadata": {},
   "outputs": [],
   "source": []
  }
 ],
 "metadata": {
  "kernelspec": {
   "display_name": "Python 3",
   "language": "python",
   "name": "python3"
  },
  "language_info": {
   "codemirror_mode": {
    "name": "ipython",
    "version": 3
   },
   "file_extension": ".py",
   "mimetype": "text/x-python",
   "name": "python",
   "nbconvert_exporter": "python",
   "pygments_lexer": "ipython3",
   "version": "3.7.0"
  }
 },
 "nbformat": 4,
 "nbformat_minor": 2
}
