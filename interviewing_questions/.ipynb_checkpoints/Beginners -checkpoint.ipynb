{
 "cells": [
  {
   "cell_type": "markdown",
   "metadata": {},
   "source": [
    "# URLify\n",
    "\n",
    "Write a method to replace all spaces in a string with '%20'. You may assume the string has sufficient space at the end to hold the additional characters, and that you are given the \"true\" length of the string.\n",
    "\n",
    "Originally tells you to use Java!! But we can use something better in one line :D (say what???)\n",
    "\n",
    "We also don't even need the length of the string!\n",
    "\n",
    "Also, for this challange, we are assuming that multiple spaces in a row can just be replaced with a single space."
   ]
  },
  {
   "cell_type": "code",
   "execution_count": 1,
   "metadata": {},
   "outputs": [
    {
     "name": "stdout",
     "output_type": "stream",
     "text": [
      "I hate cats!\n",
      "['hello', 'world']\n",
      "python is cool\n",
      "1_test_2_test_3_test_4\n"
     ]
    }
   ],
   "source": [
    "# Declare functions by using \"def\"\n",
    "# like any function, it won't run unless you call it\n",
    "def my_function():\n",
    "    print(\"I hate cats!\")\n",
    "my_function()\n",
    "\n",
    "# Functions to know in Python for this/in general for quick hacks with technical interviews\n",
    "# split function\n",
    "word = \"hello world\"\n",
    "print(word.split())\n",
    "\n",
    "# replace function\n",
    "word_2 = \"java is cool\"\n",
    "print(word_2.replace(\"java\", \"python\"))\n",
    "\n",
    "# join function \n",
    "# sounds simple enough, but integrates everything together\n",
    "\n",
    "word_3 = \"_test_\"\n",
    "word_4 = \"1234\"\n",
    "\n",
    "print(word_3.join(word_4))"
   ]
  },
  {
   "cell_type": "code",
   "execution_count": 2,
   "metadata": {},
   "outputs": [
    {
     "name": "stdout",
     "output_type": "stream",
     "text": [
      "Hello%20world\n"
     ]
    }
   ],
   "source": [
    "def urlify(url):\n",
    "    url = \"%20\".join(url.split())\n",
    "    print(url)\n",
    "\n",
    "urlify(\"Hello world    \")"
   ]
  },
  {
   "cell_type": "code",
   "execution_count": null,
   "metadata": {},
   "outputs": [],
   "source": []
  }
 ],
 "metadata": {
  "kernelspec": {
   "display_name": "Python 3",
   "language": "python",
   "name": "python3"
  },
  "language_info": {
   "codemirror_mode": {
    "name": "ipython",
    "version": 3
   },
   "file_extension": ".py",
   "mimetype": "text/x-python",
   "name": "python",
   "nbconvert_exporter": "python",
   "pygments_lexer": "ipython3",
   "version": "3.7.0"
  }
 },
 "nbformat": 4,
 "nbformat_minor": 2
}
