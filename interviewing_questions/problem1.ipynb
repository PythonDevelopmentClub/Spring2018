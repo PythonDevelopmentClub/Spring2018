{
 "cells": [
  {
   "cell_type": "markdown",
   "metadata": {},
   "source": [
    "# String compression\n",
    "\n",
    "Time for some basic string compression! Write a method that takes a string as input and changes every grouping of repeated characters into one of the characters followed by the number of times it is repeated. For example, aabbbaadddde becomes: a2b3a2d4e"
   ]
  },
  {
   "cell_type": "code",
   "execution_count": 3,
   "metadata": {},
   "outputs": [],
   "source": [
    "def compress(input_str):\n",
    "    output_str = \"\"\n",
    "    i = 0\n",
    "    while i < len(input_str):\n",
    "        count = 1\n",
    "        while i+1 < len(input_str) and input_str[i] == input_str[i+1]:\n",
    "            count += 1\n",
    "            i += 1\n",
    "        output_str += input_str[i] + (str(count) if count > 1 else \"\")\n",
    "        i += 1\n",
    "    return output_str"
   ]
  },
  {
   "cell_type": "code",
   "execution_count": 7,
   "metadata": {},
   "outputs": [
    {
     "name": "stdout",
     "output_type": "stream",
     "text": [
      "a2b3a2d4e\n",
      "abcde\n",
      "a7bcde3\n"
     ]
    }
   ],
   "source": [
    "print(compress(\"aabbbaadddde\"))\n",
    "print(compress(\"abcde\"))\n",
    "print(compress(\"aaaaaaabcdeee\"))"
   ]
  },
  {
   "cell_type": "code",
   "execution_count": null,
   "metadata": {},
   "outputs": [],
   "source": []
  }
 ],
 "metadata": {
  "kernelspec": {
   "display_name": "Python 3",
   "language": "python",
   "name": "python3"
  },
  "language_info": {
   "codemirror_mode": {
    "name": "ipython",
    "version": 3
   },
   "file_extension": ".py",
   "mimetype": "text/x-python",
   "name": "python",
   "nbconvert_exporter": "python",
   "pygments_lexer": "ipython3",
   "version": "3.7.0"
  }
 },
 "nbformat": 4,
 "nbformat_minor": 2
}
