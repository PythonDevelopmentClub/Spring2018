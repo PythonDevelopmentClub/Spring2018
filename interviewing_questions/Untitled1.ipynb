{
 "cells": [
  {
   "cell_type": "markdown",
   "metadata": {},
   "source": [
    "# palindrome\n",
    "\n",
    "Write a method is_palindrome that takes a string as an argument and determains if the string is a palindrome or not.\n",
    "\n",
    "The method should ignore all spaces in the string, as well as capitalization."
   ]
  },
  {
   "cell_type": "markdown",
   "metadata": {},
   "source": [
    "### useful stuff to know\n",
    "\n",
    "Strings can be thought of as arrays of characters. They can be indexed just like arrays."
   ]
  },
  {
   "cell_type": "code",
   "execution_count": 2,
   "metadata": {},
   "outputs": [
    {
     "name": "stdout",
     "output_type": "stream",
     "text": [
      "h\n",
      "e\n"
     ]
    }
   ],
   "source": [
    "str_1 = \"hello world!\"\n",
    "print(str_1[0])\n",
    "print(str_1[1])"
   ]
  },
  {
   "cell_type": "markdown",
   "metadata": {},
   "source": [
    "You can get a range of items in an array too"
   ]
  },
  {
   "cell_type": "code",
   "execution_count": 3,
   "metadata": {},
   "outputs": [
    {
     "name": "stdout",
     "output_type": "stream",
     "text": [
      "el\n",
      " world!\n"
     ]
    }
   ],
   "source": [
    "print(str_1[1:3])\n",
    "print(str_1[5:len(str_1)])"
   ]
  },
  {
   "cell_type": "markdown",
   "metadata": {},
   "source": [
    "Iteration can also be made to skip items, or go in reverse order. The third (optional) parameter to the indexing function is how much to jump by each step. For example:"
   ]
  },
  {
   "cell_type": "code",
   "execution_count": 5,
   "metadata": {},
   "outputs": [
    {
     "name": "stdout",
     "output_type": "stream",
     "text": [
      "hlowrd\n"
     ]
    }
   ],
   "source": [
    "print(str_1[0:12:2])"
   ]
  },
  {
   "cell_type": "markdown",
   "metadata": {},
   "source": [
    "You can even make it jump backwards"
   ]
  },
  {
   "cell_type": "code",
   "execution_count": 17,
   "metadata": {},
   "outputs": [
    {
     "name": "stdout",
     "output_type": "stream",
     "text": [
      "!dlrow \n"
     ]
    }
   ],
   "source": [
    "print(str_1[13:4:-1])"
   ]
  },
  {
   "cell_type": "markdown",
   "metadata": {},
   "source": [
    "If you ignore the first two parameters, they default to the first and last positions in the string. They also reverse automatically if the last number is negative."
   ]
  },
  {
   "cell_type": "code",
   "execution_count": 18,
   "metadata": {},
   "outputs": [
    {
     "name": "stdout",
     "output_type": "stream",
     "text": [
      "hlowrd\n",
      "!dlrow olleh\n"
     ]
    }
   ],
   "source": [
    "print(str_1[::2])\n",
    "print(str_1[::-1])"
   ]
  },
  {
   "cell_type": "markdown",
   "metadata": {},
   "source": [
    "### replacement\n",
    "\n",
    "Items in arrays can easily be replaced with one another using the \"replace\" function. Calling replace on an array takes two arguments, the first is the element to look for, the second is the element to replace it with. This makes replacement of substrings really easy. For example:"
   ]
  },
  {
   "cell_type": "code",
   "execution_count": 19,
   "metadata": {},
   "outputs": [
    {
     "name": "stdout",
     "output_type": "stream",
     "text": [
      "hello team!\n"
     ]
    }
   ],
   "source": [
    "print(str_1.replace(\"world\", \"team\"))"
   ]
  },
  {
   "cell_type": "markdown",
   "metadata": {},
   "source": [
    "### Upper and lower functions\n",
    "\n",
    "There are two more really useful functions to know. Upper, which is called on a string and converts it to all upper-case, and lower, which is called on a string and converts it all to lower case. For example."
   ]
  },
  {
   "cell_type": "code",
   "execution_count": 21,
   "metadata": {},
   "outputs": [
    {
     "name": "stdout",
     "output_type": "stream",
     "text": [
      "HELLO WORLD!\n",
      "hello world!\n"
     ]
    }
   ],
   "source": [
    "print(str_1.upper())\n",
    "print(\"HEllo WORld!\".lower())"
   ]
  },
  {
   "cell_type": "markdown",
   "metadata": {},
   "source": [
    "### putting it all together\n",
    "\n",
    "Using what we have learned here, a is_palindrome function is easy!"
   ]
  },
  {
   "cell_type": "code",
   "execution_count": 4,
   "metadata": {},
   "outputs": [
    {
     "name": "stdout",
     "output_type": "stream",
     "text": [
      "True\n",
      "True\n",
      "False\n"
     ]
    }
   ],
   "source": [
    "def is_palindrome(arg):\n",
    "    return arg.lower().replace(\" \",\"\")[::-1] == arg.lower().replace(\" \",\"\")\n",
    "\n",
    "print(is_palindrome(\"racecar\"))\n",
    "print(is_palindrome(\"r       Ac E  c ar\"))\n",
    "print(is_palindrome(\"hello!!!\"))"
   ]
  },
  {
   "cell_type": "code",
   "execution_count": null,
   "metadata": {},
   "outputs": [],
   "source": []
  }
 ],
 "metadata": {
  "kernelspec": {
   "display_name": "Python 3",
   "language": "python",
   "name": "python3"
  },
  "language_info": {
   "codemirror_mode": {
    "name": "ipython",
    "version": 3
   },
   "file_extension": ".py",
   "mimetype": "text/x-python",
   "name": "python",
   "nbconvert_exporter": "python",
   "pygments_lexer": "ipython3",
   "version": "3.7.0"
  }
 },
 "nbformat": 4,
 "nbformat_minor": 2
}
